{
  "cells": [
    {
      "cell_type": "code",
      "execution_count": null,
      "metadata": {
        "colab": {
          "base_uri": "https://localhost:8080/"
        },
        "id": "zz0KUKziagm9",
        "outputId": "fb4d4556-f97f-4ca1-c098-ce28cf65890a"
      },
      "outputs": [
        {
          "name": "stdout",
          "output_type": "stream",
          "text": [
            "Requirement already satisfied: dynetx in /usr/local/lib/python3.11/dist-packages (0.3.2)\n",
            "Requirement already satisfied: numpy in /usr/local/lib/python3.11/dist-packages (from dynetx) (2.0.2)\n",
            "Requirement already satisfied: future in /usr/local/lib/python3.11/dist-packages (from dynetx) (1.0.0)\n",
            "Requirement already satisfied: tqdm in /usr/local/lib/python3.11/dist-packages (from dynetx) (4.67.1)\n",
            "Requirement already satisfied: networkx in /usr/local/lib/python3.11/dist-packages (from dynetx) (2.8.8)\n",
            "Requirement already satisfied: decorator in /usr/local/lib/python3.11/dist-packages (from dynetx) (4.4.2)\n"
          ]
        }
      ],
      "source": [
        "# dynetx сан суулгах\n",
        "!pip install dynetx"
      ]
    },
    {
      "cell_type": "code",
      "execution_count": null,
      "metadata": {
        "id": "UeIlxLusbV7F"
      },
      "outputs": [],
      "source": [
        "# Шаардлагатай сангуудыг импортлох\n",
        "import dynetx as dn  # Динамик сүлжээний шинжилгээний сан\n",
        "import networkx as nx  # Сүлжээний шинжилгээний үндсэн сан\n",
        "import random  # Санамсаргүй тоо үүсгэх сан\n",
        "\n",
        "# CSV файлаас сүлжээг уншиж авах функц\n",
        "def read_net(filename):\n",
        "    g = nx.Graph()  # Шинэ граф үүсгэх\n",
        "    with open(filename) as f:\n",
        "        f.readline()  # Эхний мөрийг алгасах (column headers)\n",
        "        for l in f:\n",
        "            l = l.split(\",\")  # Мөрийг таслалаар салгах\n",
        "            g.add_edge(l[0], l[1])  # Ирмэг нэмэх\n",
        "    return g\n",
        "\n",
        "# Динамик граф үүсгэх\n",
        "g = dn.DynGraph()"
      ]
    },
    {
      "cell_type": "code",
      "execution_count": null,
      "metadata": {
        "id": "JRzzNtGvbhEc"
      },
      "outputs": [],
      "source": [
        "# Game of Thrones цувралын 8 улирлын өгөгдлийг ачаалах\n",
        "for t in range(1, 9):\n",
        "    # t улирал бүрийн холбоосын файлыг уншиж авах\n",
        "    er = read_net(f'/content/sample_data/got-s{t}-edges.csv')\n",
        "    # Динамик графт холбоосуудыг цаг хугацааны мэдээлэлтэй нэмэх\n",
        "    g.add_interactions_from(er.edges, t=t)"
      ]
    },
    {
      "cell_type": "code",
      "execution_count": null,
      "metadata": {
        "colab": {
          "base_uri": "https://localhost:8080/"
        },
        "id": "4ayba_dmdR-H",
        "outputId": "0255eb31-eddf-46cb-d06e-4f8f5712f518"
      },
      "outputs": [
        {
          "data": {
            "text/plain": [
              "[1, 2, 3, 4, 5, 6, 7, 8]"
            ]
          },
          "execution_count": 11,
          "metadata": {},
          "output_type": "execute_result"
        }
      ],
      "source": [
        "# Бүх цаг хугацааны үеийн дугааруудыг харуулах\n",
        "g.temporal_snapshots_ids()"
      ]
    },
    {
      "cell_type": "code",
      "execution_count": null,
      "metadata": {
        "id": "Z3kn4R3OdTBj"
      },
      "outputs": [],
      "source": [
        "# Зөвхөн 1-р үеийн графыг авах\n",
        "g1 = g.time_slice(1)"
      ]
    },
    {
      "cell_type": "code",
      "execution_count": null,
      "metadata": {
        "colab": {
          "base_uri": "https://localhost:8080/"
        },
        "id": "yDk9mtfRdXRf",
        "outputId": "36673ccd-2614-41d3-c923-8a83f429c7e9"
      },
      "outputs": [
        {
          "data": {
            "text/plain": [
              "(dynetx.classes.dyngraph.DynGraph, 126, 549)"
            ]
          },
          "execution_count": 14,
          "metadata": {},
          "output_type": "execute_result"
        }
      ],
      "source": [
        "# g1 графын төрөл, оройн тоо, ирмэгийн тоог харуулах\n",
        "type(g1), g1.number_of_nodes(), g1.number_of_edges()"
      ]
    },
    {
      "cell_type": "code",
      "execution_count": null,
      "metadata": {
        "id": "zM3GakybdYvW"
      },
      "outputs": [],
      "source": [
        "# 0-3 үеийн графыг авах\n",
        "g0_3 = g.time_slice(0, 3)"
      ]
    },
    {
      "cell_type": "code",
      "execution_count": null,
      "metadata": {
        "colab": {
          "base_uri": "https://localhost:8080/"
        },
        "id": "gFlY7eHxdbyV",
        "outputId": "f245e11b-97cc-4f53-f9e7-8b4a6b504366"
      },
      "outputs": [
        {
          "data": {
            "text/plain": [
              "(dynetx.classes.dyngraph.DynGraph, 237, 1182)"
            ]
          },
          "execution_count": 16,
          "metadata": {},
          "output_type": "execute_result"
        }
      ],
      "source": [
        "# g0_3 графын төрөл, оройн тоо, ирмэгийн тоог харуулах\n",
        "type(g0_3), g0_3.number_of_nodes(), g0_3.number_of_edges()"
      ]
    },
    {
      "cell_type": "code",
      "execution_count": null,
      "metadata": {
        "id": "X-7ebPgide-j"
      },
      "outputs": [],
      "source": [
        "# g1 графыг хавтгай граф болгон хувиргах\n",
        "g1_flat = nx.Graph(g1.edges())"
      ]
    },
    {
      "cell_type": "code",
      "execution_count": null,
      "metadata": {
        "colab": {
          "base_uri": "https://localhost:8080/"
        },
        "id": "49YaubFUdhjM",
        "outputId": "36ee391f-9de9-468b-df57-d0bd8a6c2828"
      },
      "outputs": [
        {
          "data": {
            "text/plain": [
              "(networkx.classes.graph.Graph, 126, 549)"
            ]
          },
          "execution_count": 18,
          "metadata": {},
          "output_type": "execute_result"
        }
      ],
      "source": [
        "# g1_flat графын төрөл, оройн тоо, ирмэгийн тоог харуулах\n",
        "type(g1_flat), g1_flat.number_of_nodes(), g1_flat.number_of_edges()"
      ]
    },
    {
      "cell_type": "code",
      "execution_count": null,
      "metadata": {
        "colab": {
          "base_uri": "https://localhost:8080/"
        },
        "id": "JJOH_JfGdji0",
        "outputId": "c936fc7f-1ca8-4bd5-bf8c-e0e1232c82cf"
      },
      "outputs": [
        {
          "name": "stdout",
          "output_type": "stream",
          "text": [
            "Number interactions: temporal distance\t{0: 3307, 1: 8}\n"
          ]
        }
      ],
      "source": [
        "# Бүх холбоосуудын хоорондын цаг хугацааны зайг тооцоолох\n",
        "r = g.inter_event_time_distribution()\n",
        "print(f\"Number interactions: temporal distance\\t{r}\")"
      ]
    },
    {
      "cell_type": "code",
      "execution_count": null,
      "metadata": {
        "colab": {
          "base_uri": "https://localhost:8080/"
        },
        "id": "exag_TjFdnDe",
        "outputId": "82ba6290-76e2-4979-df0e-639cdb3d3357"
      },
      "outputs": [
        {
          "name": "stdout",
          "output_type": "stream",
          "text": [
            "Number interactions: temporal distance\t{0: 137, 1: 8}\n"
          ]
        }
      ],
      "source": [
        "# ARYA зангилааны холбоосуудын хоорондын цаг хугацааны зайг тооцоолох\n",
        "r = g.inter_event_time_distribution(\"ARYA\")\n",
        "print(f\"Number interactions: temporal distance\\t{r}\")"
      ]
    },
    {
      "cell_type": "code",
      "execution_count": null,
      "metadata": {
        "id": "20Zn7w3ndp-3"
      },
      "outputs": [],
      "source": [
        "# JON болон ARYA зангилаануудыг тодорхойлох\n",
        "u = 'JON'\n",
        "v = 'ARYA'"
      ]
    },
    {
      "cell_type": "code",
      "execution_count": null,
      "metadata": {
        "colab": {
          "base_uri": "https://localhost:8080/"
        },
        "id": "igkM-o1QdszK",
        "outputId": "f68073c6-d322-44ac-838f-0533f9160e91"
      },
      "outputs": [
        {
          "name": "stdout",
          "output_type": "stream",
          "text": [
            "Number interactions: temporal distance\t{0: 2, 6: 1, 1: 1}\n"
          ]
        }
      ],
      "source": [
        "# JON болон ARYA зангилаануудын хоорондын цаг хугацааны зайг тооцоолох\n",
        "r = g.inter_event_time_distribution(u, v)\n",
        "print(f\"Number interactions: temporal distance\\t{r}\")"
      ]
    },
    {
      "cell_type": "code",
      "execution_count": null,
      "metadata": {
        "colab": {
          "base_uri": "https://localhost:8080/"
        },
        "id": "lAOZctq0dwKQ",
        "outputId": "558392d4-0f78-48dc-8ec4-2fc47dbd3808"
      },
      "outputs": [
        {
          "data": {
            "text/plain": [
              "27"
            ]
          },
          "execution_count": 23,
          "metadata": {},
          "output_type": "execute_result"
        }
      ],
      "source": [
        "# ARYA зангилааны 2-р үеийн зэрэг\n",
        "g.degree(t=2)['ARYA']"
      ]
    },
    {
      "cell_type": "code",
      "execution_count": null,
      "metadata": {
        "colab": {
          "base_uri": "https://localhost:8080/"
        },
        "id": "1G3ucRJPdyOS",
        "outputId": "cb6da97c-1058-4db3-ad76-04353dc16d93"
      },
      "outputs": [
        {
          "data": {
            "text/plain": [
              "0.2977216748768473"
            ]
          },
          "execution_count": 24,
          "metadata": {},
          "output_type": "execute_result"
        }
      ],
      "source": [
        "# Графын хамрах хүрээ\n",
        "g.coverage()"
      ]
    },
    {
      "cell_type": "code",
      "execution_count": null,
      "metadata": {
        "colab": {
          "base_uri": "https://localhost:8080/"
        },
        "id": "qo66tmX3dz7b",
        "outputId": "0145f72b-9168-4781-c69a-c031938c93c4"
      },
      "outputs": [
        {
          "data": {
            "text/plain": [
              "0.625"
            ]
          },
          "execution_count": 25,
          "metadata": {},
          "output_type": "execute_result"
        }
      ],
      "source": [
        "# BERIC зангилааны хувь нэмэр\n",
        "g.node_contribution(\"BERIC\")"
      ]
    },
    {
      "cell_type": "code",
      "execution_count": null,
      "metadata": {
        "colab": {
          "base_uri": "https://localhost:8080/"
        },
        "id": "aSWMoEiKd1_Y",
        "outputId": "d286b25e-741f-4cac-d57a-c3fb86195c94"
      },
      "outputs": [
        {
          "data": {
            "text/plain": [
              "0.625"
            ]
          },
          "execution_count": 26,
          "metadata": {},
          "output_type": "execute_result"
        }
      ],
      "source": [
        "# JON болон ARYA зангилаануудын ирмэгийн хувь нэмэр\n",
        "g.edge_contribution(u, v)"
      ]
    },
    {
      "cell_type": "code",
      "execution_count": null,
      "metadata": {
        "colab": {
          "base_uri": "https://localhost:8080/"
        },
        "id": "ulERo_u-d3Y2",
        "outputId": "320a4728-fca3-4b7d-db1d-d22b527a4e84"
      },
      "outputs": [
        {
          "data": {
            "text/plain": [
              "1.0"
            ]
          },
          "execution_count": 27,
          "metadata": {},
          "output_type": "execute_result"
        }
      ],
      "source": [
        "# JON болон ARYA зангилаануудын хосын жигд байдал\n",
        "g.node_pair_uniformity(u, v)"
      ]
    },
    {
      "cell_type": "code",
      "execution_count": null,
      "metadata": {
        "colab": {
          "base_uri": "https://localhost:8080/"
        },
        "id": "LwZEfJHmd5dl",
        "outputId": "85626bcf-7aab-4d6f-cd26-210094754f4d"
      },
      "outputs": [
        {
          "data": {
            "text/plain": [
              "0.06686633244351846"
            ]
          },
          "execution_count": 28,
          "metadata": {},
          "output_type": "execute_result"
        }
      ],
      "source": [
        "# Графын нягтшил\n",
        "g.density()"
      ]
    },
    {
      "cell_type": "code",
      "execution_count": null,
      "metadata": {
        "colab": {
          "base_uri": "https://localhost:8080/"
        },
        "id": "jl5zdhoTd7gP",
        "outputId": "c75feca5-2e65-4232-d420-21da386e8098"
      },
      "outputs": [
        {
          "data": {
            "text/plain": [
              "0.2295760082730093"
            ]
          },
          "execution_count": 29,
          "metadata": {},
          "output_type": "execute_result"
        }
      ],
      "source": [
        "# JON зангилааны нягтшил\n",
        "g.node_density(u)"
      ]
    },
    {
      "cell_type": "code",
      "execution_count": null,
      "metadata": {
        "id": "R_E70vFfd9DM"
      },
      "outputs": [],
      "source": [
        "# JON болон ARYA зангилаануудын хосын нягтшил\n",
        "g.pair_density(u, v)"
      ]
    },
    {
      "cell_type": "markdown",
      "metadata": {
        "id": "i5eoGmtEd_-o"
      },
      "source": [
        "### Графын нягтшил (Snapshot Density)"
      ]
    },
    {
      "cell_type": "code",
      "execution_count": null,
      "metadata": {
        "colab": {
          "base_uri": "https://localhost:8080/"
        },
        "id": "9WEp33ESd-ty",
        "outputId": "3169f73e-5443-4f44-8d3f-db31129f0b39"
      },
      "outputs": [
        {
          "name": "stdout",
          "output_type": "stream",
          "text": [
            "1\t0.06971428571428571\n",
            "2\t0.05886627906976744\n",
            "3\t0.06608969315499606\n",
            "4\t0.04535563715490276\n",
            "5\t0.05640222190571144\n",
            "6\t0.05404055538907202\n",
            "7\t0.1271604938271605\n",
            "8\t0.20473898556090336\n"
          ]
        }
      ],
      "source": [
        "# Цаг хугацаа бүрийн графын нягтшилыг тооцоолох\n",
        "for t in g.temporal_snapshots_ids():\n",
        "    print(f\"{t}\\t{g.snapshot_density(t)}\")"
      ]
    },
    {
      "cell_type": "markdown",
      "metadata": {
        "id": "yle0Cz8deIUz"
      },
      "source": [
        "### Зам шинжилгээ (Path Analysis)"
      ]
    },
    {
      "cell_type": "code",
      "execution_count": null,
      "metadata": {
        "id": "M-8u7Q7-eJr3"
      },
      "outputs": [],
      "source": [
        "# Замын алгоритмуудыг импортлох\n",
        "import dynetx.algorithms as al\n",
        "# GENDRY-ээс GREY_WORM хүртэлх цаг хугацаанд хамааралтай замуудыг олох (1-5 үе хооронд)\n",
        "paths = al.time_respecting_paths(g, \"GENDRY\", \"GREY_WORM\", start=1, end=5)"
      ]
    },
    {
      "cell_type": "code",
      "execution_count": null,
      "metadata": {
        "colab": {
          "base_uri": "https://localhost:8080/"
        },
        "id": "BvJ22fyfeM3C",
        "outputId": "702fa483-624b-420f-925a-5678fb8d7e8f"
      },
      "outputs": [
        {
          "data": {
            "text/plain": [
              "[]"
            ]
          },
          "execution_count": 32,
          "metadata": {},
          "output_type": "execute_result"
        }
      ],
      "source": [
        "# Олдсон замын жишээ. Зам бүр нь (from_node, to_node, time) хэлбэртэй tuple байна\n",
        "p = paths[0]\n",
        "p"
      ]
    },
    {
      "cell_type": "markdown",
      "metadata": {
        "id": "_oLsPIK6edPQ"
      },
      "source": [
        "### Daalgavar"
      ]
    },
    {
      "cell_type": "code",
      "execution_count": null,
      "metadata": {
        "id": "jjZybgOgeaMz"
      },
      "outputs": [],
      "source": [
        "# Олдсон замуудыг тэмдэглэгээтэй болгох (хамгийн богино, хамгийн хурдан гэх мэт)\n",
        "annotated = al.annotate_paths(paths[(\"GENDRY\", \"GREY_WORM\")])"
      ]
    },
    {
      "cell_type": "code",
      "execution_count": null,
      "metadata": {
        "id": "5ubpgzYKehKg"
      },
      "outputs": [],
      "source": [
        "# Хамгийн богино зам харуулах\n",
        "annotated['shortest']"
      ]
    },
    {
      "cell_type": "code",
      "execution_count": null,
      "metadata": {
        "id": "_Ev6FtWWeiC7"
      },
      "outputs": [],
      "source": [
        "# Хамгийн хурдан зам харуулах\n",
        "annotated['fastest']"
      ]
    },
    {
      "cell_type": "code",
      "execution_count": null,
      "metadata": {
        "id": "wy00SJFZekaT"
      },
      "outputs": [],
      "source": [
        "# Богино бөгөөд хурдан зам\n",
        "annotated['shortest_fastest']"
      ]
    },
    {
      "cell_type": "code",
      "execution_count": null,
      "metadata": {
        "id": "Y6x-rxh2elY6"
      },
      "outputs": [],
      "source": [
        "# Хурдан бөгөөд богино зам\n",
        "annotated['fastest_shortest']"
      ]
    },
    {
      "cell_type": "code",
      "execution_count": null,
      "metadata": {
        "id": "1DJv8hsCfT-T"
      },
      "outputs": [],
      "source": [
        "# Хамгийн эрт зам\n",
        "annotated['foremost']"
      ]
    }
  ],
  "metadata": {
    "colab": {
      "provenance": []
    },
    "kernelspec": {
      "display_name": "Python 3",
      "name": "python3"
    },
    "language_info": {
      "name": "python"
    }
  },
  "nbformat": 4,
  "nbformat_minor": 0
}
